{
 "cells": [
  {
   "cell_type": "code",
   "execution_count": 2,
   "metadata": {},
   "outputs": [],
   "source": [
    "import pandas as pd"
   ]
  },
  {
   "cell_type": "code",
   "execution_count": 10,
   "metadata": {},
   "outputs": [],
   "source": [
    "df = pd.read_csv('time.csv')"
   ]
  },
  {
   "cell_type": "code",
   "execution_count": 12,
   "metadata": {},
   "outputs": [
    {
     "name": "stdout",
     "output_type": "stream",
     "text": [
      "                                                   link  \\\n",
      "0                                                  link   \n",
      "1                                                  link   \n",
      "2                                                  link   \n",
      "3                                                  link   \n",
      "5     https://www.outsideonline.com/1960011/inside-m...   \n",
      "...                                                 ...   \n",
      "1772  http://blog.emoryadmission.com/2016/10/strong-...   \n",
      "1774  https://www.esquire.com/news-politics/a23960/j...   \n",
      "1776  https://www.thenation.com/article/archive/repo...   \n",
      "1777  https://www.penguin.co.uk/articles/2020/06/jam...   \n",
      "1778  http://www.esquire.com/sports/a5151/the-string...   \n",
      "\n",
      "                           time  \n",
      "0                             t  \n",
      "1                             i  \n",
      "2                             m  \n",
      "3                             e  \n",
      "5     2023-07-03T11:37:12-06:00  \n",
      "...                         ...  \n",
      "1772  2019-07-28T18:56:07-04:00  \n",
      "1774     Published: Aug 2, 2017  \n",
      "1776              July 11, 1966  \n",
      "1777                 2020-06-10  \n",
      "1778    Published: Sep 17, 2008  \n",
      "\n",
      "[1197 rows x 2 columns]\n"
     ]
    }
   ],
   "source": [
    "df_filtered = df[df['time'] > '2019']\n",
    "print(df_filtered)"
   ]
  },
  {
   "cell_type": "code",
   "execution_count": 13,
   "metadata": {},
   "outputs": [
    {
     "data": {
      "text/html": [
       "<div>\n",
       "<style scoped>\n",
       "    .dataframe tbody tr th:only-of-type {\n",
       "        vertical-align: middle;\n",
       "    }\n",
       "\n",
       "    .dataframe tbody tr th {\n",
       "        vertical-align: top;\n",
       "    }\n",
       "\n",
       "    .dataframe thead th {\n",
       "        text-align: right;\n",
       "    }\n",
       "</style>\n",
       "<table border=\"1\" class=\"dataframe\">\n",
       "  <thead>\n",
       "    <tr style=\"text-align: right;\">\n",
       "      <th></th>\n",
       "      <th>link</th>\n",
       "      <th>time</th>\n",
       "    </tr>\n",
       "  </thead>\n",
       "  <tbody>\n",
       "    <tr>\n",
       "      <th>count</th>\n",
       "      <td>1197</td>\n",
       "      <td>1197</td>\n",
       "    </tr>\n",
       "    <tr>\n",
       "      <th>unique</th>\n",
       "      <td>223</td>\n",
       "      <td>483</td>\n",
       "    </tr>\n",
       "    <tr>\n",
       "      <th>top</th>\n",
       "      <td>http://nymag.com/intelligencer/2019/02/book-ex...</td>\n",
       "      <td>2022-08-16T01:44:09.000Z</td>\n",
       "    </tr>\n",
       "    <tr>\n",
       "      <th>freq</th>\n",
       "      <td>78</td>\n",
       "      <td>16</td>\n",
       "    </tr>\n",
       "  </tbody>\n",
       "</table>\n",
       "</div>"
      ],
      "text/plain": [
       "                                                     link  \\\n",
       "count                                                1197   \n",
       "unique                                                223   \n",
       "top     http://nymag.com/intelligencer/2019/02/book-ex...   \n",
       "freq                                                   78   \n",
       "\n",
       "                            time  \n",
       "count                       1197  \n",
       "unique                       483  \n",
       "top     2022-08-16T01:44:09.000Z  \n",
       "freq                          16  "
      ]
     },
     "execution_count": 13,
     "metadata": {},
     "output_type": "execute_result"
    }
   ],
   "source": [
    "df_filtered.describe()"
   ]
  },
  {
   "cell_type": "code",
   "execution_count": 14,
   "metadata": {},
   "outputs": [
    {
     "name": "stdout",
     "output_type": "stream",
     "text": [
      "                                                   link  \\\n",
      "0                                                  link   \n",
      "5     https://www.outsideonline.com/1960011/inside-m...   \n",
      "7             http://www.outsideonline.com/1823786/book   \n",
      "11    https://www.outsideonline.com/outdoor-adventur...   \n",
      "13    https://www.bicycling.com/rides/a31245986/two-...   \n",
      "...                                                 ...   \n",
      "1771  http://blog.emoryadmission.com/2016/10/strong-...   \n",
      "1774  https://www.esquire.com/news-politics/a23960/j...   \n",
      "1776  https://www.thenation.com/article/archive/repo...   \n",
      "1777  https://www.penguin.co.uk/articles/2020/06/jam...   \n",
      "1778  http://www.esquire.com/sports/a5151/the-string...   \n",
      "\n",
      "                                      time  \n",
      "0                                        t  \n",
      "5                2023-07-03T11:37:12-06:00  \n",
      "7                2021-06-29T17:33:49-06:00  \n",
      "11               2022-02-24T11:29:51-07:00  \n",
      "13    Published: Mar 26, 2020 10:39 AM EDT  \n",
      "...                                    ...  \n",
      "1771             2019-07-27T03:35:08-04:00  \n",
      "1774                Published: Aug 2, 2017  \n",
      "1776                         July 11, 1966  \n",
      "1777                            2020-06-10  \n",
      "1778               Published: Sep 17, 2008  \n",
      "\n",
      "[223 rows x 2 columns]\n"
     ]
    }
   ],
   "source": [
    "df_filtered = df_filtered.drop_duplicates(subset='link')\n",
    "print(df_filtered)"
   ]
  },
  {
   "cell_type": "code",
   "execution_count": 15,
   "metadata": {},
   "outputs": [],
   "source": [
    "df_filtered.to_csv('filtered_data.csv', index=False)"
   ]
  },
  {
   "cell_type": "code",
   "execution_count": 16,
   "metadata": {},
   "outputs": [
    {
     "name": "stdout",
     "output_type": "stream",
     "text": [
      "                                                   link  \\\n",
      "0                                                  link   \n",
      "14    https://www.newyorker.com/news/dispatch/the-in...   \n",
      "27    http://www.esquire.com/features/the-restless-m...   \n",
      "28    http://www.esquire.com/features/ESQ0704-JULY_A...   \n",
      "54    https://www.nytimes.com/interactive/2019/03/20...   \n",
      "...                                                 ...   \n",
      "1767  https://www.oprahdaily.com/life/relationships-...   \n",
      "1771  http://blog.emoryadmission.com/2016/10/strong-...   \n",
      "1774  https://www.esquire.com/news-politics/a23960/j...   \n",
      "1776  https://www.thenation.com/article/archive/repo...   \n",
      "1778  http://www.esquire.com/sports/a5151/the-string...   \n",
      "\n",
      "                                     time  \n",
      "0                                       t  \n",
      "14              2019-05-23T09:00:00-04:00  \n",
      "27                Published: Jan 29, 2007  \n",
      "28                Published: Jan 29, 2007  \n",
      "54                             2019-03-21  \n",
      "...                                   ...  \n",
      "1767  Published: Oct 16, 2019 2:38 PM EDT  \n",
      "1771            2019-07-27T03:35:08-04:00  \n",
      "1774               Published: Aug 2, 2017  \n",
      "1776                        July 11, 1966  \n",
      "1778              Published: Sep 17, 2008  \n",
      "\n",
      "[86 rows x 2 columns]\n"
     ]
    }
   ],
   "source": [
    "years_to_remove = ['2020', '2021', '2022', '2023', '2024', '2025']\n",
    "pattern = '|'.join(years_to_remove)\n",
    "df_filtered = df_filtered[~df_filtered['time'].str.contains(pattern)]\n",
    "print(df_filtered)"
   ]
  },
  {
   "cell_type": "code",
   "execution_count": 17,
   "metadata": {},
   "outputs": [],
   "source": [
    "df_filtered.to_csv('filtered_data.csv', index=False)"
   ]
  }
 ],
 "metadata": {
  "kernelspec": {
   "display_name": ".venv",
   "language": "python",
   "name": "python3"
  },
  "language_info": {
   "codemirror_mode": {
    "name": "ipython",
    "version": 3
   },
   "file_extension": ".py",
   "mimetype": "text/x-python",
   "name": "python",
   "nbconvert_exporter": "python",
   "pygments_lexer": "ipython3",
   "version": "3.12.3"
  }
 },
 "nbformat": 4,
 "nbformat_minor": 2
}
